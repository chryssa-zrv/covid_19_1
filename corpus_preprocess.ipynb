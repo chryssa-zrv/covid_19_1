{
 "cells": [
  {
   "cell_type": "code",
   "execution_count": 2,
   "metadata": {},
   "outputs": [],
   "source": [
    "# notebook based largely on preprocessing in https://www.kaggle.com/maria17/cord-19-explore-drugs-being-developed"
   ]
  },
  {
   "cell_type": "code",
   "execution_count": 3,
   "metadata": {},
   "outputs": [
    {
     "name": "stderr",
     "output_type": "stream",
     "text": [
      "[nltk_data] Downloading package punkt to /home/chryssa/nltk_data...\n",
      "[nltk_data]   Package punkt is already up-to-date!\n",
      "[nltk_data] Downloading package averaged_perceptron_tagger to\n",
      "[nltk_data]     /home/chryssa/nltk_data...\n",
      "[nltk_data]   Package averaged_perceptron_tagger is already up-to-\n",
      "[nltk_data]       date!\n",
      "[nltk_data] Downloading package wordnet to /home/chryssa/nltk_data...\n",
      "[nltk_data]   Package wordnet is already up-to-date!\n",
      "[nltk_data] Downloading package stopwords to\n",
      "[nltk_data]     /home/chryssa/nltk_data...\n",
      "[nltk_data]   Package stopwords is already up-to-date!\n"
     ]
    }
   ],
   "source": [
    "# imports - downloads\n",
    "\n",
    "import numpy as np # linear algebra\n",
    "import pandas as pd # data processing, CSV file I/O (e.g. pd.read_csv)\n",
    "\n",
    "import json\n",
    "import csv\n",
    "import os\n",
    "\n",
    "from tqdm import tqdm_notebook as tqdm\n",
    "from p_tqdm import p_map\n",
    "\n",
    "import random\n",
    "import nltk\n",
    "import sys\n",
    "\n",
    "from nltk.corpus import stopwords\n",
    "from nltk import pos_tag\n",
    "from nltk.stem import WordNetLemmatizer \n",
    "from nltk.tag import StanfordNERTagger\n",
    "from nltk.parse.corenlp import CoreNLPDependencyParser\n",
    "from nltk.parse import CoreNLPParser\n",
    "from nltk.tokenize import sent_tokenize, word_tokenize\n",
    "\n",
    "\n",
    "nltk.download('punkt')\n",
    "nltk.download('averaged_perceptron_tagger')\n",
    "nltk.download('wordnet')\n",
    "nltk.download('stopwords')\n",
    "\n",
    "import string"
   ]
  },
  {
   "cell_type": "code",
   "execution_count": 4,
   "metadata": {},
   "outputs": [
    {
     "name": "stdout",
     "output_type": "stream",
     "text": [
      "Number of publications: 29315\n"
     ]
    }
   ],
   "source": [
    "indir = 'datasets/CORD-19-research-challenge'\n",
    "\n",
    "publications = []\n",
    "for root, dirs, files in os.walk(indir):\n",
    "    for file in files:\n",
    "        if file.endswith('json'):\n",
    "            path = os.path.join(root, file)\n",
    "            publications.append(path)\n",
    "\n",
    "        \n",
    "print('Number of publications: %d'%len(publications))"
   ]
  },
  {
   "cell_type": "code",
   "execution_count": null,
   "metadata": {},
   "outputs": [
    {
     "data": {
      "application/vnd.jupyter.widget-view+json": {
       "model_id": "104696dc60b942619a3545135fdb15cd",
       "version_major": 2,
       "version_minor": 0
      },
      "text/plain": [
       "HBox(children=(IntProgress(value=0, max=29315), HTML(value='')))"
      ]
     },
     "metadata": {},
     "output_type": "display_data"
    }
   ],
   "source": [
    "#process files\n",
    "\n",
    "#selected columns: \n",
    "selected_columns = ['paper_id', 'metadata.title', 'body_text', 'abstract', ]\n",
    "#is a dataframe what we need to keep info?\n",
    "\n",
    "list_df = []\n",
    "for pub in tqdm(publications):\n",
    "    with open(pub) as jf:\n",
    "        json_data = json.load(jf)\n",
    "        json_data_df = pd.io.json.json_normalize(json_data)\n",
    "        json_data_df_selected = json_data_df[selected_columns]\n",
    "\n",
    "        list_df.append(json_data_df_selected)\n",
    "publications_df = pd.concat(list_df)     \n",
    "\n"
   ]
  },
  {
   "cell_type": "code",
   "execution_count": 33,
   "metadata": {},
   "outputs": [
    {
     "name": "stdout",
     "output_type": "stream",
     "text": [
      "(29315, 7)\n",
      "(29315, 4)\n"
     ]
    },
    {
     "data": {
      "text/html": [
       "<div>\n",
       "<style scoped>\n",
       "    .dataframe tbody tr th:only-of-type {\n",
       "        vertical-align: middle;\n",
       "    }\n",
       "\n",
       "    .dataframe tbody tr th {\n",
       "        vertical-align: top;\n",
       "    }\n",
       "\n",
       "    .dataframe thead th {\n",
       "        text-align: right;\n",
       "    }\n",
       "</style>\n",
       "<table border=\"1\" class=\"dataframe\">\n",
       "  <thead>\n",
       "    <tr style=\"text-align: right;\">\n",
       "      <th></th>\n",
       "      <th>paper_id</th>\n",
       "      <th>abstract_text</th>\n",
       "      <th>all_body_text</th>\n",
       "      <th>title</th>\n",
       "    </tr>\n",
       "  </thead>\n",
       "  <tbody>\n",
       "    <tr>\n",
       "      <td>0</td>\n",
       "      <td>0015023cc06b5362d332b3baf348d11567ca2fbb</td>\n",
       "      <td>word count: 194 22 Text word count: 5168 23 24...</td>\n",
       "      <td>VP3, and VP0 (which is further processed to VP...</td>\n",
       "      <td>The RNA pseudoknots in foot-and-mouth disease ...</td>\n",
       "    </tr>\n",
       "    <tr>\n",
       "      <td>0</td>\n",
       "      <td>004f0f8bb66cf446678dc13cf2701feec4f36d76</td>\n",
       "      <td></td>\n",
       "      <td>The 2019-nCoV epidemic has spread across China...</td>\n",
       "      <td>Healthcare-resource-adjusted vulnerabilities t...</td>\n",
       "    </tr>\n",
       "    <tr>\n",
       "      <td>0</td>\n",
       "      <td>00d16927588fb04d4be0e6b269fc02f0d3c2aa7b</td>\n",
       "      <td>Infectious bronchitis (IB) causes significant ...</td>\n",
       "      <td>Infectious bronchitis (IB), which is caused by...</td>\n",
       "      <td>Real-time, MinION-based, amplicon sequencing f...</td>\n",
       "    </tr>\n",
       "  </tbody>\n",
       "</table>\n",
       "</div>"
      ],
      "text/plain": [
       "                                   paper_id  \\\n",
       "0  0015023cc06b5362d332b3baf348d11567ca2fbb   \n",
       "0  004f0f8bb66cf446678dc13cf2701feec4f36d76   \n",
       "0  00d16927588fb04d4be0e6b269fc02f0d3c2aa7b   \n",
       "\n",
       "                                       abstract_text  \\\n",
       "0  word count: 194 22 Text word count: 5168 23 24...   \n",
       "0                                                      \n",
       "0  Infectious bronchitis (IB) causes significant ...   \n",
       "\n",
       "                                       all_body_text  \\\n",
       "0  VP3, and VP0 (which is further processed to VP...   \n",
       "0  The 2019-nCoV epidemic has spread across China...   \n",
       "0  Infectious bronchitis (IB), which is caused by...   \n",
       "\n",
       "                                               title  \n",
       "0  The RNA pseudoknots in foot-and-mouth disease ...  \n",
       "0  Healthcare-resource-adjusted vulnerabilities t...  \n",
       "0  Real-time, MinION-based, amplicon sequencing f...  "
      ]
     },
     "execution_count": 33,
     "metadata": {},
     "output_type": "execute_result"
    }
   ],
   "source": [
    "publications_df['abstract_text'] = publications_df['abstract'].apply(lambda x: x[0]['text'] if x else \"\")\n",
    "publications_df['all_body_text'] = publications_df['body_text'].apply(lambda x: \" \".join([(t['text']) for t in x]))\n",
    "publications_df['title'] = publications_df['metadata.title']\n",
    "\n",
    "print(publications_df.shape)\n",
    "publications_df.head(3)\n",
    "df_text = publications_df.drop(['metadata.title','abstract', 'body_text'], axis=1)\n",
    "print(df_text.shape)\n",
    "df_text.head(3)"
   ]
  },
  {
   "cell_type": "code",
   "execution_count": 35,
   "metadata": {},
   "outputs": [
    {
     "name": "stdout",
     "output_type": "stream",
     "text": [
      "Number of articles that have no text data at all: 0\n"
     ]
    }
   ],
   "source": [
    "def no_title(row):\n",
    "    return not row.title.strip()\n",
    "\n",
    "def no_abstract(row):\n",
    "    return not row.abstract_text.strip()\n",
    "\n",
    "def no_body(row):\n",
    "    return not row.all_body_text.strip()\n",
    "\n",
    "def no_title_abstract_body(row):\n",
    "    return no_title(row) and no_abstract(row) and no_body(row)\n",
    "\n",
    "mask = df_text.apply(no_title_abstract_body, axis=1)\n",
    "print('Number of articles that have no text data at all:', df_text.loc[mask].shape[0])"
   ]
  },
  {
   "cell_type": "code",
   "execution_count": 1,
   "metadata": {},
   "outputs": [
    {
     "ename": "NameError",
     "evalue": "name 'df_text' is not defined",
     "output_type": "error",
     "traceback": [
      "\u001b[0;31m---------------------------------------------------------------------------\u001b[0m",
      "\u001b[0;31mNameError\u001b[0m                                 Traceback (most recent call last)",
      "\u001b[0;32m<ipython-input-1-ff05136da5a9>\u001b[0m in \u001b[0;36m<module>\u001b[0;34m\u001b[0m\n\u001b[1;32m      1\u001b[0m \u001b[0;31m#picklify dataset\u001b[0m\u001b[0;34m\u001b[0m\u001b[0;34m\u001b[0m\u001b[0;34m\u001b[0m\u001b[0m\n\u001b[1;32m      2\u001b[0m \u001b[0;34m\u001b[0m\u001b[0m\n\u001b[0;32m----> 3\u001b[0;31m \u001b[0mdf_text\u001b[0m\u001b[0;34m.\u001b[0m\u001b[0mto_pickle\u001b[0m\u001b[0;34m(\u001b[0m\u001b[0;34m'covid_pub_dataset.pickle'\u001b[0m\u001b[0;34m)\u001b[0m\u001b[0;34m\u001b[0m\u001b[0;34m\u001b[0m\u001b[0m\n\u001b[0m",
      "\u001b[0;31mNameError\u001b[0m: name 'df_text' is not defined"
     ]
    }
   ],
   "source": [
    "#picklify dataset\n",
    "\n",
    "df_text.to_pickle('covid_pub_dataset.pickle')"
   ]
  },
  {
   "cell_type": "code",
   "execution_count": null,
   "metadata": {},
   "outputs": [],
   "source": [
    "df_text.loc[df_text.apply(no_title, axis=1), 'title'] = None\n",
    "df_text.loc[df_text.apply(no_abstract, axis=1), 'abstract_text'] = None\n",
    "df_text.loc[df_text.apply(no_body, axis=1), 'body_text'] = None\n"
   ]
  },
  {
   "cell_type": "code",
   "execution_count": 75,
   "metadata": {},
   "outputs": [],
   "source": [
    "#define keywords\n",
    "keywords_covid = ['sars-cov', 'sars', 'coronavirus',  'coronaviruses', 'ncov', 'covid-19', 'covid19', '2019-ncov', '2019-ncov.', 'wuhan', 'sars-cov-2']\n",
    "keywords_risk = ['risk', 'risk-factor']"
   ]
  },
  {
   "cell_type": "code",
   "execution_count": 69,
   "metadata": {},
   "outputs": [
    {
     "name": "stdout",
     "output_type": "stream",
     "text": [
      "(5444, 9)\n"
     ]
    }
   ],
   "source": [
    "\n",
    "\n",
    "stpwds = stopwords.words('english')\n",
    "punct = string.punctuation.replace('-', '')\n",
    "\n",
    "#title_tokens = clean_text_simple(title,my_stopwords=stpwds,punct=punct, stemming=False)\n",
    "\n",
    "\n",
    "def has_keyword(text, keywords):\n",
    "    for key in keywords:\n",
    "        if text and key.lower() in text.lower():\n",
    "            return True\n",
    "    return False\n",
    "\n",
    "df_text['title_has_covid19'] = df_text.title.apply(has_keyword, args=[keywords_covid])\n",
    "df_text['abstract_has_covid19'] = df_text.abstract_text.apply(has_keyword, args=[keywords_covid])\n",
    "df_text['body_has_covid19'] = df_text.all_body_text.apply(has_keyword, args=[keywords_covid])\n",
    "# df['body_has_covid19'] = df.body.apply(has_covid19)\n",
    "df_covid19 = df_text[df_text.title_has_covid19 | df_text.abstract_has_covid19]\n",
    "print(df_covid19.shape)"
   ]
  },
  {
   "cell_type": "code",
   "execution_count": 76,
   "metadata": {},
   "outputs": [
    {
     "name": "stderr",
     "output_type": "stream",
     "text": [
      "/home/chryssa/anaconda3/lib/python3.7/site-packages/ipykernel_launcher.py:1: SettingWithCopyWarning: \n",
      "A value is trying to be set on a copy of a slice from a DataFrame.\n",
      "Try using .loc[row_indexer,col_indexer] = value instead\n",
      "\n",
      "See the caveats in the documentation: http://pandas.pydata.org/pandas-docs/stable/user_guide/indexing.html#returning-a-view-versus-a-copy\n",
      "  \"\"\"Entry point for launching an IPython kernel.\n",
      "/home/chryssa/anaconda3/lib/python3.7/site-packages/ipykernel_launcher.py:2: SettingWithCopyWarning: \n",
      "A value is trying to be set on a copy of a slice from a DataFrame.\n",
      "Try using .loc[row_indexer,col_indexer] = value instead\n",
      "\n",
      "See the caveats in the documentation: http://pandas.pydata.org/pandas-docs/stable/user_guide/indexing.html#returning-a-view-versus-a-copy\n",
      "  \n"
     ]
    },
    {
     "name": "stdout",
     "output_type": "stream",
     "text": [
      "(395, 12)\n"
     ]
    },
    {
     "name": "stderr",
     "output_type": "stream",
     "text": [
      "/home/chryssa/anaconda3/lib/python3.7/site-packages/ipykernel_launcher.py:3: SettingWithCopyWarning: \n",
      "A value is trying to be set on a copy of a slice from a DataFrame.\n",
      "Try using .loc[row_indexer,col_indexer] = value instead\n",
      "\n",
      "See the caveats in the documentation: http://pandas.pydata.org/pandas-docs/stable/user_guide/indexing.html#returning-a-view-versus-a-copy\n",
      "  This is separate from the ipykernel package so we can avoid doing imports until\n"
     ]
    }
   ],
   "source": [
    "df_covid19['title_has_risk'] = df_covid19.title.apply(has_keyword, args=[keywords_risk])\n",
    "df_covid19['abstract_has_risk'] = df_covid19.abstract_text.apply(has_keyword, args=[keywords_risk])\n",
    "df_covid19['body_has_risk'] = df_covid19.all_body_text.apply(has_keyword, args=[keywords_risk])\n",
    "# df['body_has_covid19'] = df.body.apply(has_covid19)\n",
    "df_risk = df_covid19[df_covid19.title_has_risk | df_covid19.abstract_has_risk]\n",
    "print(df_risk.shape)"
   ]
  },
  {
   "cell_type": "code",
   "execution_count": null,
   "metadata": {},
   "outputs": [],
   "source": []
  },
  {
   "cell_type": "code",
   "execution_count": 22,
   "metadata": {},
   "outputs": [],
   "source": [
    "def clean_text_simple(text, my_stopwords, punct, remove_stopwords=True, pos_filtering=True, stemming=True):\n",
    "    text = text.lower()\n",
    "    text = ''.join(l for l in text if l not in punct) # remove punctuation (preserving intra-word dashes)\n",
    "    text = re.sub(' +',' ',text) # strip extra white space\n",
    "    text = text.strip() # strip leading and trailing white space\n",
    "    # tokenize (split based on whitespace)\n",
    "    tokens = text.split(' ')\n",
    "    if pos_filtering == True:\n",
    "        # POS tag and retain only nouns and adjectives\n",
    "        tagged_tokens = pos_tag(tokens)\n",
    "        tokens_keep = []\n",
    "        for item in tagged_tokens:\n",
    "            if (\n",
    "            item[1] == 'NN' or\n",
    "            item[1] == 'NNS' or\n",
    "            item[1] == 'NNP' or\n",
    "            item[1] == 'NNPS' or\n",
    "            item[1] == 'JJ' or\n",
    "            item[1] == 'JJS' or\n",
    "            item[1] == 'JJR'\n",
    "            ):\n",
    "                tokens_keep.append(item[0])\n",
    "        tokens = tokens_keep\n",
    "    if remove_stopwords:\n",
    "        # remove stopwords\n",
    "        tokens = [token for token in tokens if token not in my_stopwords]\n",
    "    if stemming:\n",
    "        # apply Porter's stemmer\n",
    "        stemmer = nltk.stem.PorterStemmer()\n",
    "        tokens_stemmed = list()\n",
    "        for token in tokens:\n",
    "            tokens_stemmed.append(stemmer.stem(token))\n",
    "        tokens = tokens_stemmed\n",
    "    \n",
    "    return(tokens)"
   ]
  }
 ],
 "metadata": {
  "kernelspec": {
   "display_name": "Python 3",
   "language": "python",
   "name": "python3"
  },
  "language_info": {
   "codemirror_mode": {
    "name": "ipython",
    "version": 3
   },
   "file_extension": ".py",
   "mimetype": "text/x-python",
   "name": "python",
   "nbconvert_exporter": "python",
   "pygments_lexer": "ipython3",
   "version": "3.7.4"
  }
 },
 "nbformat": 4,
 "nbformat_minor": 2
}
